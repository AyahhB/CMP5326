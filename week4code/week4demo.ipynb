{
 "cells": [
  {
   "cell_type": "markdown",
   "metadata": {},
   "source": [
    "# Example 1"
   ]
  },
  {
   "cell_type": "code",
   "execution_count": 1,
   "metadata": {},
   "outputs": [
    {
     "name": "stdout",
     "output_type": "stream",
     "text": [
      "The pattern is: (?P<day>\\d\\d)\n",
      "The text is: The date is 05/09/2024 \n",
      "search found Day: 05\n"
     ]
    }
   ],
   "source": [
    "# for use with jupyter notebook install the following\n",
    "# pip install jupyter\n",
    "# pip install -U ipykernel\n",
    "\n",
    "import re\n",
    "text = \"The date is 05/09/2024 \"\n",
    "pattern = r\"(?P<day>\\d\\d)\"\n",
    "print(\"The pattern is: \"+ pattern)\n",
    "print(\"The text is: \"+text)\n",
    "match=re.search(pattern,text)\n",
    "#print (match)\n",
    "if match:\n",
    "    print(\"search found Day:\", match.group (\"day\"))\n",
    "#if not match then print an error message\n",
    "else:\n",
    "    print(\"No match found\")"
   ]
  },
  {
   "cell_type": "markdown",
   "metadata": {},
   "source": [
    "# Example 2"
   ]
  },
  {
   "cell_type": "code",
   "execution_count": 2,
   "metadata": {},
   "outputs": [
    {
     "name": "stdout",
     "output_type": "stream",
     "text": [
      "['in']\n"
     ]
    }
   ],
   "source": [
    "import re\n",
    "txt = \"The rain in Spain\"\n",
    "pattern = r\"\\bin\\b\"\n",
    "x = re.findall(pattern, txt)\n",
    "print(x)\n"
   ]
  },
  {
   "cell_type": "code",
   "execution_count": 3,
   "metadata": {},
   "outputs": [
    {
     "name": "stdout",
     "output_type": "stream",
     "text": [
      "[' ', '', '', ' ', '', '', '', ' ', '', ' ', '', '', '', '', '']\n"
     ]
    }
   ],
   "source": [
    "import re\n",
    "txt = \" The rain in Spain\"\n",
    "pattern = r\"\\w\"\n",
    "x = re.split(pattern,txt)\n",
    "print(x)\n"
   ]
  },
  {
   "cell_type": "code",
   "execution_count": 4,
   "metadata": {},
   "outputs": [
    {
     "name": "stdout",
     "output_type": "stream",
     "text": [
      "The0rain0in Spain\n"
     ]
    }
   ],
   "source": [
    "import re\n",
    "txt = \"The rain in Spain\"\n",
    "pattern= r\"\\s\"\n",
    "x = re.sub(pattern, \"0\", txt, 2)\n",
    "print(x)\n"
   ]
  },
  {
   "cell_type": "code",
   "execution_count": 5,
   "metadata": {},
   "outputs": [
    {
     "name": "stdout",
     "output_type": "stream",
     "text": [
      "The first char is located in position: 5\n",
      "The last char is located in position: 8\n"
     ]
    }
   ],
   "source": [
    "import re\n",
    "txt =\"The rain in Spain\"\n",
    "pattern = r\"ain\"\n",
    "x = re.search(pattern,txt)\n",
    "print(\"The first char is located in position:\", x.start())\n",
    "print(\"The last char is located in position:\", x.end())"
   ]
  },
  {
   "cell_type": "code",
   "execution_count": 6,
   "metadata": {},
   "outputs": [
    {
     "name": "stdout",
     "output_type": "stream",
     "text": [
      "String: The rain in Spain\n",
      "Start position: 4\n",
      "End position: 8\n",
      "Span: (4, 8)\n"
     ]
    }
   ],
   "source": [
    "import re\n",
    "txt = \"The rain in Spain\"\n",
    "pattern = r\"rain\"\n",
    "x = re.search(\"rain\", txt)\n",
    "# Using some properties and methods\n",
    "print(\"String:\", x.string)\n",
    "print(\"Start position:\", x.start())\n",
    "print(\"End position:\", x.end())\n",
    "print(\"Span:\", x.span())"
   ]
  },
  {
   "cell_type": "code",
   "execution_count": 7,
   "metadata": {},
   "outputs": [
    {
     "name": "stdout",
     "output_type": "stream",
     "text": [
      "['Spain']\n",
      "['Spain']\n"
     ]
    }
   ],
   "source": [
    "import re\n",
    "text1 = \"The rain in Spain\"\n",
    "text2 = \"The sun in Spain\"\n",
    "pattern = r\"\\bS\\w+\"\n",
    "# Using the pattern on text1\n",
    "matches1 = re.findall(pattern, text1)\n",
    "print(matches1)\n",
    "# Using the pattern on text2\n",
    "matches2 = re.findall(pattern, text2)\n",
    "print(matches2)\n"
   ]
  },
  {
   "cell_type": "code",
   "execution_count": 8,
   "metadata": {},
   "outputs": [
    {
     "name": "stdout",
     "output_type": "stream",
     "text": [
      "['Spain']\n",
      "['Spain']\n"
     ]
    }
   ],
   "source": [
    "import re\n",
    "text1 = \"The rain in Spain\"\n",
    "text2 = \"The sun in Spain\"\n",
    "# Compile the pattern\n",
    "compiled_pattern = re.compile(r\"\\bS\\w+\")\n",
    "# Using the compiled pattern on text1\n",
    "matches1 = compiled_pattern.findall(text1)\n",
    "print(matches1)\n",
    "# Using the compiled pattern on text2\n",
    "matches2 = compiled_pattern.findall(text2)\n",
    "print(matches2)"
   ]
  }
 ],
 "metadata": {
  "kernelspec": {
   "display_name": ".venv",
   "language": "python",
   "name": "python3"
  },
  "language_info": {
   "codemirror_mode": {
    "name": "ipython",
    "version": 3
   },
   "file_extension": ".py",
   "mimetype": "text/x-python",
   "name": "python",
   "nbconvert_exporter": "python",
   "pygments_lexer": "ipython3",
   "version": "3.12.1"
  }
 },
 "nbformat": 4,
 "nbformat_minor": 2
}
