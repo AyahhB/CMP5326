{
 "cells": [
  {
   "cell_type": "code",
   "execution_count": 17,
   "metadata": {},
   "outputs": [
    {
     "name": "stdout",
     "output_type": "stream",
     "text": [
      "The pattern is: (?P<day>\\d\\d)\n",
      "The text is: The date is 05/09/2024 \n",
      "search found Day: 05\n"
     ]
    }
   ],
   "source": [
    "# for use with jupyter notebook install the following\n",
    "# pip install jupyter\n",
    "# pip install -U ipykernel\n",
    "\n",
    "import re\n",
    "text = \"The date is 05/09/2024 \"\n",
    "pattern = r\"(?P<day>\\d\\d)\"\n",
    "print(\"The pattern is: \"+ pattern)\n",
    "print(\"The text is: \"+text)\n",
    "match=re.search(pattern,text)\n",
    "#print (match)\n",
    "if match:\n",
    "    print(\"search found Day:\", match.group (\"day\"))\n",
    "#if not match then print an error message\n",
    "else:\n",
    "    print(\"No match found\")"
   ]
  }
 ],
 "metadata": {
  "kernelspec": {
   "display_name": ".venv",
   "language": "python",
   "name": "python3"
  },
  "language_info": {
   "codemirror_mode": {
    "name": "ipython",
    "version": 3
   },
   "file_extension": ".py",
   "mimetype": "text/x-python",
   "name": "python",
   "nbconvert_exporter": "python",
   "pygments_lexer": "ipython3",
   "version": "3.12.3"
  }
 },
 "nbformat": 4,
 "nbformat_minor": 2
}
